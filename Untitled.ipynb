{
 "cells": [
  {
   "cell_type": "code",
   "execution_count": 1,
   "id": "b3820bc7",
   "metadata": {},
   "outputs": [],
   "source": [
    "# importing required python libraries\n",
    "import numpy as np\n",
    "import pandas as pd"
   ]
  },
  {
   "cell_type": "code",
   "execution_count": 3,
   "id": "dd2ff58f",
   "metadata": {},
   "outputs": [
    {
     "name": "stdout",
     "output_type": "stream",
     "text": [
      "                City        Date  PM2.5   PM10     NO    NO2    NOx    NH3  \\\n",
      "0          Ahmedabad  2015-01-01    NaN    NaN   0.92  18.22  17.15    NaN   \n",
      "1          Ahmedabad  2015-01-02    NaN    NaN   0.97  15.69  16.46    NaN   \n",
      "2          Ahmedabad  2015-01-03    NaN    NaN  17.40  19.30  29.70    NaN   \n",
      "3          Ahmedabad  2015-01-04    NaN    NaN   1.70  18.48  17.97    NaN   \n",
      "4          Ahmedabad  2015-01-05    NaN    NaN  22.10  21.42  37.76    NaN   \n",
      "...              ...         ...    ...    ...    ...    ...    ...    ...   \n",
      "29526  Visakhapatnam  2020-06-27  15.02  50.94   7.68  25.06  19.54  12.47   \n",
      "29527  Visakhapatnam  2020-06-28  24.38  74.09   3.42  26.06  16.53  11.99   \n",
      "29528  Visakhapatnam  2020-06-29  22.91  65.73   3.45  29.53  18.33  10.71   \n",
      "29529  Visakhapatnam  2020-06-30  16.64  49.97   4.05  29.26  18.80  10.03   \n",
      "29530  Visakhapatnam  2020-07-01  15.00  66.00   0.40  26.85  14.05   5.20   \n",
      "\n",
      "          CO    SO2      O3  Benzene  Toluene  Xylene   AQI    AQI_Bucket  \n",
      "0       0.92  27.64  133.36     0.00     0.02    0.00   NaN           NaN  \n",
      "1       0.97  24.55   34.06     3.68     5.50    3.77   NaN           NaN  \n",
      "2      17.40  29.07   30.70     6.80    16.40    2.25   NaN           NaN  \n",
      "3       1.70  18.59   36.08     4.43    10.14    1.00   NaN           NaN  \n",
      "4      22.10  39.33   39.31     7.01    18.89    2.78   NaN           NaN  \n",
      "...      ...    ...     ...      ...      ...     ...   ...           ...  \n",
      "29526   0.47   8.55   23.30     2.24    12.07    0.73  41.0          Good  \n",
      "29527   0.52  12.72   30.14     0.74     2.21    0.38  70.0  Satisfactory  \n",
      "29528   0.48   8.42   30.96     0.01     0.01    0.00  68.0  Satisfactory  \n",
      "29529   0.52   9.84   28.30     0.00     0.00    0.00  54.0  Satisfactory  \n",
      "29530   0.59   2.10   17.05      NaN      NaN     NaN  50.0          Good  \n",
      "\n",
      "[29531 rows x 16 columns]\n"
     ]
    }
   ],
   "source": [
    "# loading datasets\n",
    "dataset = pd.read_csv('city_day.csv')\n",
    "print(dataset)"
   ]
  },
  {
   "cell_type": "code",
   "execution_count": 4,
   "id": "0ce4f983",
   "metadata": {},
   "outputs": [
    {
     "name": "stdout",
     "output_type": "stream",
     "text": [
      "              PM2.5          PM10            NO           NO2           NOx  \\\n",
      "count  24933.000000  18391.000000  25949.000000  25946.000000  25346.000000   \n",
      "mean      67.450578    118.127103     17.574730     28.560659     32.309123   \n",
      "std       64.661449     90.605110     22.785846     24.474746     31.646011   \n",
      "min        0.040000      0.010000      0.020000      0.010000      0.000000   \n",
      "25%       28.820000     56.255000      5.630000     11.750000     12.820000   \n",
      "50%       48.570000     95.680000      9.890000     21.690000     23.520000   \n",
      "75%       80.590000    149.745000     19.950000     37.620000     40.127500   \n",
      "max      949.990000   1000.000000    390.680000    362.210000    467.630000   \n",
      "\n",
      "                NH3            CO           SO2            O3       Benzene  \\\n",
      "count  19203.000000  27472.000000  25677.000000  25509.000000  23908.000000   \n",
      "mean      23.483476      2.248598     14.531977     34.491430      3.280840   \n",
      "std       25.684275      6.962884     18.133775     21.694928     15.811136   \n",
      "min        0.010000      0.000000      0.010000      0.010000      0.000000   \n",
      "25%        8.580000      0.510000      5.670000     18.860000      0.120000   \n",
      "50%       15.850000      0.890000      9.160000     30.840000      1.070000   \n",
      "75%       30.020000      1.450000     15.220000     45.570000      3.080000   \n",
      "max      352.890000    175.810000    193.860000    257.730000    455.030000   \n",
      "\n",
      "            Toluene        Xylene           AQI  \n",
      "count  21490.000000  11422.000000  24850.000000  \n",
      "mean       8.700972      3.070128    166.463581  \n",
      "std       19.969164      6.323247    140.696585  \n",
      "min        0.000000      0.000000     13.000000  \n",
      "25%        0.600000      0.140000     81.000000  \n",
      "50%        2.970000      0.980000    118.000000  \n",
      "75%        9.150000      3.350000    208.000000  \n",
      "max      454.850000    170.370000   2049.000000  \n"
     ]
    }
   ],
   "source": [
    "print(dataset.describe()) # to get the summary of data containing high statistical calculation"
   ]
  },
  {
   "cell_type": "code",
   "execution_count": 19,
   "id": "3fa44366",
   "metadata": {},
   "outputs": [
    {
     "name": "stdout",
     "output_type": "stream",
     "text": [
      "[['Ahmedabad' '2015-01-01' nan ... 0.02 0.0 nan]\n",
      " ['Ahmedabad' '2015-01-02' nan ... 5.5 3.77 nan]\n",
      " ['Ahmedabad' '2015-01-03' nan ... 16.4 2.25 nan]\n",
      " ...\n",
      " ['Visakhapatnam' '2020-06-29' 22.91 ... 0.01 0.0 68.0]\n",
      " ['Visakhapatnam' '2020-06-30' 16.64 ... 0.0 0.0 54.0]\n",
      " ['Visakhapatnam' '2020-07-01' 15.0 ... nan nan 50.0]]\n"
     ]
    }
   ],
   "source": [
    "#creating dependent and independent variable vectors \n",
    "#for x\n",
    "x=dataset.iloc[:,:-1].values # iloc = index location method\n",
    "print(x)"
   ]
  },
  {
   "cell_type": "code",
   "execution_count": 20,
   "id": "86f062ae",
   "metadata": {},
   "outputs": [
    {
     "name": "stdout",
     "output_type": "stream",
     "text": [
      "[nan nan nan ... 'Satisfactory' 'Satisfactory' 'Good']\n"
     ]
    }
   ],
   "source": [
    "# for y\n",
    "y=dataset.iloc[:,-1].values\n",
    "print(y)"
   ]
  },
  {
   "cell_type": "code",
   "execution_count": 21,
   "id": "9163cb12",
   "metadata": {},
   "outputs": [
    {
     "name": "stdout",
     "output_type": "stream",
     "text": [
      "City              0\n",
      "Date              0\n",
      "PM2.5          4598\n",
      "PM10          11140\n",
      "NO             3582\n",
      "NO2            3585\n",
      "NOx            4185\n",
      "NH3           10328\n",
      "CO             2059\n",
      "SO2            3854\n",
      "O3             4022\n",
      "Benzene        5623\n",
      "Toluene        8041\n",
      "Xylene        18109\n",
      "AQI            4681\n",
      "AQI_Bucket     4681\n",
      "dtype: int64\n"
     ]
    }
   ],
   "source": [
    "# handle missing data\n",
    "# count the number of missing values in each column of our dataset\n",
    "print(dataset.isnull().sum())"
   ]
  },
  {
   "cell_type": "code",
   "execution_count": 22,
   "id": "a9177cb6",
   "metadata": {},
   "outputs": [
    {
     "name": "stdout",
     "output_type": "stream",
     "text": [
      "                City        Date  PM2.5    PM10    NO    NO2    NOx    NH3  \\\n",
      "2123       Amaravati  2017-11-25  81.40  124.50  1.44  20.50  12.08  10.72   \n",
      "2124       Amaravati  2017-11-26  78.32  129.06  1.26  26.00  14.85  10.28   \n",
      "2125       Amaravati  2017-11-27  88.76  135.32  6.60  30.85  21.77  12.91   \n",
      "2126       Amaravati  2017-11-28  64.18  104.09  2.56  28.07  17.01  11.42   \n",
      "2127       Amaravati  2017-11-29  72.47  114.84  5.23  23.20  16.59  12.25   \n",
      "...              ...         ...    ...     ...   ...    ...    ...    ...   \n",
      "29525  Visakhapatnam  2020-06-26   7.63   32.27  5.91  23.27  17.19  11.15   \n",
      "29526  Visakhapatnam  2020-06-27  15.02   50.94  7.68  25.06  19.54  12.47   \n",
      "29527  Visakhapatnam  2020-06-28  24.38   74.09  3.42  26.06  16.53  11.99   \n",
      "29528  Visakhapatnam  2020-06-29  22.91   65.73  3.45  29.53  18.33  10.71   \n",
      "29529  Visakhapatnam  2020-06-30  16.64   49.97  4.05  29.26  18.80  10.03   \n",
      "\n",
      "         CO    SO2      O3  Benzene  Toluene  Xylene    AQI    AQI_Bucket  \n",
      "2123   0.12  15.24  127.09     0.20     6.50    0.06  184.0      Moderate  \n",
      "2124   0.14  26.96  117.44     0.22     7.95    0.08  197.0      Moderate  \n",
      "2125   0.11  33.59  111.81     0.29     7.63    0.12  198.0      Moderate  \n",
      "2126   0.09  19.00  138.18     0.17     5.02    0.07  188.0      Moderate  \n",
      "2127   0.16  10.55  109.74     0.21     4.71    0.08  173.0      Moderate  \n",
      "...     ...    ...     ...      ...      ...     ...    ...           ...  \n",
      "29525  0.46   6.87   19.90     1.45     5.37    1.45   47.0          Good  \n",
      "29526  0.47   8.55   23.30     2.24    12.07    0.73   41.0          Good  \n",
      "29527  0.52  12.72   30.14     0.74     2.21    0.38   70.0  Satisfactory  \n",
      "29528  0.48   8.42   30.96     0.01     0.01    0.00   68.0  Satisfactory  \n",
      "29529  0.52   9.84   28.30     0.00     0.00    0.00   54.0  Satisfactory  \n",
      "\n",
      "[6236 rows x 16 columns]\n"
     ]
    }
   ],
   "source": [
    "# drop missing value records\n",
    "dataset.dropna(inplace=True)\n",
    "print(dataset)"
   ]
  },
  {
   "cell_type": "code",
   "execution_count": 27,
   "id": "bb377a4f",
   "metadata": {},
   "outputs": [
    {
     "name": "stdout",
     "output_type": "stream",
     "text": [
      "[[67.45057794890306 118.12710293078135 0.92 ... 0.0 0.02 0.0]\n",
      " [67.45057794890306 118.12710293078135 0.97 ... 3.68 5.5 3.77]\n",
      " [67.45057794890306 118.12710293078135 17.4 ... 6.8 16.4 2.25]\n",
      " ...\n",
      " [22.91 65.73 3.45 ... 0.01 0.01 0.0]\n",
      " [16.64 49.97 4.05 ... 0.0 0.0 0.0]\n",
      " [15.0 66.0 0.4 ... 3.280840304500585 8.700972080037227\n",
      "  3.0701278234985114]]\n"
     ]
    }
   ],
   "source": [
    "# replace missing values\n",
    "\n",
    "from sklearn.impute import SimpleImputer\n",
    "\n",
    "imputer = SimpleImputer(missing_values = np.nan,strategy='mean')\n",
    "imputer.fit(x[:,2:14])\n",
    "x[:,2:14] =imputer.transform(x[:,2:14])\n",
    "print(x[:,2:14])"
   ]
  },
  {
   "cell_type": "code",
   "execution_count": 34,
   "id": "ee51f2dc",
   "metadata": {},
   "outputs": [
    {
     "name": "stdout",
     "output_type": "stream",
     "text": [
      "[[0.0 1.0 0.0 ... 0.02 0.0 nan]\n",
      " [0.0 1.0 0.0 ... 5.5 3.77 nan]\n",
      " [0.0 1.0 0.0 ... 16.4 2.25 nan]\n",
      " ...\n",
      " [1.0 0.0 0.0 ... 0.01 0.0 68.0]\n",
      " [1.0 0.0 0.0 ... 0.0 0.0 54.0]\n",
      " [1.0 0.0 0.0 ... 8.700972080037227 3.0701278234985114 50.0]]\n"
     ]
    }
   ],
   "source": [
    "# data encoding \n",
    "# one hot encoding\n",
    "from sklearn.compose import ColumnTransformer\n",
    "from sklearn.preprocessing import OneHotEncoder\n",
    "\n",
    "ct = ColumnTransformer(transformers=[('encoder',OneHotEncoder(),[0])],remainder=\"passthrough\")\n",
    "x=np.array(ct.fit_transform(x))\n",
    "print(x)"
   ]
  },
  {
   "cell_type": "code",
   "execution_count": 35,
   "id": "4fe8b658",
   "metadata": {},
   "outputs": [
    {
     "name": "stdout",
     "output_type": "stream",
     "text": [
      "[6 6 6 ... 3 3 0]\n"
     ]
    }
   ],
   "source": [
    "# label encoding\n",
    "\n",
    "from sklearn.preprocessing import LabelEncoder\n",
    "le = LabelEncoder()\n",
    "y = le.fit_transform(y)\n",
    "print(y)\n"
   ]
  },
  {
   "cell_type": "code",
   "execution_count": 36,
   "id": "972f0016",
   "metadata": {},
   "outputs": [
    {
     "name": "stdout",
     "output_type": "stream",
     "text": [
      "                City        Date  PM2.5    PM10    NO    NO2    NOx    NH3  \\\n",
      "2123       Amaravati  2017-11-25  81.40  124.50  1.44  20.50  12.08  10.72   \n",
      "2124       Amaravati  2017-11-26  78.32  129.06  1.26  26.00  14.85  10.28   \n",
      "2125       Amaravati  2017-11-27  88.76  135.32  6.60  30.85  21.77  12.91   \n",
      "2126       Amaravati  2017-11-28  64.18  104.09  2.56  28.07  17.01  11.42   \n",
      "2127       Amaravati  2017-11-29  72.47  114.84  5.23  23.20  16.59  12.25   \n",
      "...              ...         ...    ...     ...   ...    ...    ...    ...   \n",
      "29525  Visakhapatnam  2020-06-26   7.63   32.27  5.91  23.27  17.19  11.15   \n",
      "29526  Visakhapatnam  2020-06-27  15.02   50.94  7.68  25.06  19.54  12.47   \n",
      "29527  Visakhapatnam  2020-06-28  24.38   74.09  3.42  26.06  16.53  11.99   \n",
      "29528  Visakhapatnam  2020-06-29  22.91   65.73  3.45  29.53  18.33  10.71   \n",
      "29529  Visakhapatnam  2020-06-30  16.64   49.97  4.05  29.26  18.80  10.03   \n",
      "\n",
      "         CO    SO2      O3  Benzene  Toluene  Xylene    AQI    AQI_Bucket  \n",
      "2123   0.12  15.24  127.09     0.20     6.50    0.06  184.0      Moderate  \n",
      "2124   0.14  26.96  117.44     0.22     7.95    0.08  197.0      Moderate  \n",
      "2125   0.11  33.59  111.81     0.29     7.63    0.12  198.0      Moderate  \n",
      "2126   0.09  19.00  138.18     0.17     5.02    0.07  188.0      Moderate  \n",
      "2127   0.16  10.55  109.74     0.21     4.71    0.08  173.0      Moderate  \n",
      "...     ...    ...     ...      ...      ...     ...    ...           ...  \n",
      "29525  0.46   6.87   19.90     1.45     5.37    1.45   47.0          Good  \n",
      "29526  0.47   8.55   23.30     2.24    12.07    0.73   41.0          Good  \n",
      "29527  0.52  12.72   30.14     0.74     2.21    0.38   70.0  Satisfactory  \n",
      "29528  0.48   8.42   30.96     0.01     0.01    0.00   68.0  Satisfactory  \n",
      "29529  0.52   9.84   28.30     0.00     0.00    0.00   54.0  Satisfactory  \n",
      "\n",
      "[6236 rows x 16 columns]\n"
     ]
    }
   ],
   "source": [
    "print(dataset)"
   ]
  },
  {
   "cell_type": "code",
   "execution_count": 37,
   "id": "147c020c",
   "metadata": {},
   "outputs": [
    {
     "name": "stdout",
     "output_type": "stream",
     "text": [
      "[[0.0 1.0 0.0 ... 0.02 0.0 nan]\n",
      " [0.0 1.0 0.0 ... 5.5 3.77 nan]\n",
      " [0.0 1.0 0.0 ... 16.4 2.25 nan]\n",
      " ...\n",
      " [1.0 0.0 0.0 ... 0.01 0.0 68.0]\n",
      " [1.0 0.0 0.0 ... 0.0 0.0 54.0]\n",
      " [1.0 0.0 0.0 ... 8.700972080037227 3.0701278234985114 50.0]]\n"
     ]
    }
   ],
   "source": [
    "print(x)"
   ]
  },
  {
   "cell_type": "code",
   "execution_count": 41,
   "id": "4be2f28f",
   "metadata": {},
   "outputs": [
    {
     "name": "stdout",
     "output_type": "stream",
     "text": [
      "[6 6 6 ... 3 3 0]\n"
     ]
    }
   ],
   "source": [
    "print(y)"
   ]
  },
  {
   "cell_type": "code",
   "execution_count": 42,
   "id": "88eec541",
   "metadata": {},
   "outputs": [
    {
     "name": "stdout",
     "output_type": "stream",
     "text": [
      "[[1.0 0.0 0.0 ... 8.700972080037227 3.0701278234985114 103.0]\n",
      " [1.0 0.0 0.0 ... 8.700972080037227 3.0701278234985114 nan]\n",
      " [1.0 0.0 0.0 ... 8.700972080037227 3.0701278234985114 53.0]\n",
      " ...\n",
      " [1.0 0.0 0.0 ... 1.87 3.0701278234985114 60.0]\n",
      " [1.0 0.0 0.0 ... 6.39 0.0 98.0]\n",
      " [0.0 1.0 0.0 ... 2.1 0.05 302.0]]\n",
      "\n",
      "[[1.0 0.0 0.0 ... 15.31 3.0701278234985114 339.0]\n",
      " [1.0 0.0 0.0 ... 0.09 3.0701278234985114 109.0]\n",
      " [1.0 0.0 0.0 ... 1.44 3.0701278234985114 74.0]\n",
      " ...\n",
      " [1.0 0.0 0.0 ... 1.66 0.42 131.0]\n",
      " [1.0 0.0 0.0 ... 8.700972080037227 3.0701278234985114 106.0]\n",
      " [1.0 0.0 0.0 ... 0.22 3.0701278234985114 57.0]]\n",
      "\n",
      "[1 6 3 ... 3 3 5]\n",
      "\n",
      "[5 1 3 ... 1 1 3]\n"
     ]
    }
   ],
   "source": [
    "# split the dataset for training and testing\n",
    "\n",
    "from sklearn.model_selection import train_test_split\n",
    "\n",
    "x_train,x_test,y_train,y_test=train_test_split(x,y,test_size=0.25,random_state=1)\n",
    "print(x_train)\n",
    "print()\n",
    "print(x_test)\n",
    "print()\n",
    "print(y_train)\n",
    "print()\n",
    "print(y_test)"
   ]
  },
  {
   "cell_type": "code",
   "execution_count": 3,
   "id": "9a262e13",
   "metadata": {},
   "outputs": [
    {
     "ename": "NameError",
     "evalue": "name 'dataset' is not defined",
     "output_type": "error",
     "traceback": [
      "\u001b[1;31m---------------------------------------------------------------------------\u001b[0m",
      "\u001b[1;31mNameError\u001b[0m                                 Traceback (most recent call last)",
      "Cell \u001b[1;32mIn[3], line 1\u001b[0m\n\u001b[1;32m----> 1\u001b[0m help(dataset\u001b[38;5;241m.\u001b[39minfo())\n",
      "\u001b[1;31mNameError\u001b[0m: name 'dataset' is not defined"
     ]
    }
   ],
   "source": [
    "help(dataset.info())"
   ]
  },
  {
   "cell_type": "code",
   "execution_count": null,
   "id": "074856dd",
   "metadata": {},
   "outputs": [],
   "source": []
  },
  {
   "cell_type": "code",
   "execution_count": null,
   "id": "7d1da09a",
   "metadata": {},
   "outputs": [],
   "source": []
  }
 ],
 "metadata": {
  "kernelspec": {
   "display_name": "Python 3 (ipykernel)",
   "language": "python",
   "name": "python3"
  },
  "language_info": {
   "codemirror_mode": {
    "name": "ipython",
    "version": 3
   },
   "file_extension": ".py",
   "mimetype": "text/x-python",
   "name": "python",
   "nbconvert_exporter": "python",
   "pygments_lexer": "ipython3",
   "version": "3.11.4"
  }
 },
 "nbformat": 4,
 "nbformat_minor": 5
}
